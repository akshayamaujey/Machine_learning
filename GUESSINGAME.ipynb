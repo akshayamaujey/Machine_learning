{
  "nbformat": 4,
  "nbformat_minor": 0,
  "metadata": {
    "colab": {
      "provenance": [],
      "authorship_tag": "ABX9TyMe4Mpz72XwVeGxgqqrgADX",
      "include_colab_link": true
    },
    "kernelspec": {
      "name": "python3",
      "display_name": "Python 3"
    },
    "language_info": {
      "name": "python"
    }
  },
  "cells": [
    {
      "cell_type": "markdown",
      "metadata": {
        "id": "view-in-github",
        "colab_type": "text"
      },
      "source": [
        "<a href=\"https://colab.research.google.com/github/akshayamaujey/Machine_learning/blob/main/GUESSINGAME.ipynb\" target=\"_parent\"><img src=\"https://colab.research.google.com/assets/colab-badge.svg\" alt=\"Open In Colab\"/></a>"
      ]
    },
    {
      "cell_type": "markdown",
      "source": [
        "# New Section\n",
        "GUESSING GAME\n"
      ],
      "metadata": {
        "id": "ZICl2NjnZLXW"
      }
    },
    {
      "cell_type": "code",
      "source": [
        "import random\n",
        "random_num = random.randint(1,10)"
      ],
      "metadata": {
        "id": "MPAaxTh4ZTXo"
      },
      "execution_count": 4,
      "outputs": []
    },
    {
      "cell_type": "code",
      "source": [
        "guess=input(\"Pick a number between 1 to 10\")\n",
        "guess=int(guess)\n",
        "if guess==random_num:\n",
        "  print(\"you guess it correct\")\n",
        "elif guess < random_num:\n",
        "  print(\"its too LOW\")\n",
        "else:\n",
        "  print(\"its too HIGH\")\n",
        "print(random_num)"
      ],
      "metadata": {
        "colab": {
          "base_uri": "https://localhost:8080/"
        },
        "id": "Zcqvhhn0Zx_h",
        "outputId": "e17d5a5a-f147-4269-a979-db1091288352"
      },
      "execution_count": 8,
      "outputs": [
        {
          "output_type": "stream",
          "name": "stdout",
          "text": [
            "Pick a number between 1 to 105\n",
            "its too LOW\n",
            "10\n"
          ]
        }
      ]
    },
    {
      "cell_type": "markdown",
      "source": [
        "lets improvise it by adding \"while\" loop in it"
      ],
      "metadata": {
        "id": "adi40SZhdCuY"
      }
    },
    {
      "cell_type": "code",
      "source": [
        "import random\n",
        "random_num = random.randint(1,10)"
      ],
      "metadata": {
        "id": "4IhiN38EdNHA"
      },
      "execution_count": 9,
      "outputs": []
    },
    {
      "cell_type": "code",
      "source": [
        "\n",
        "  guess = None\n",
        "\n",
        "  while guess != random_num:\n",
        "      guess=input(\"Pick a number between 1 to 10  \")\n",
        "      guess=int(guess)\n",
        "      if guess < random_num:\n",
        "        print(\"LOW!!!\")\n",
        "      elif guess > random_num:\n",
        "        print(\"HIGH\")\n",
        "      else:\n",
        "        print(\"YOU WON!!!\")\n",
        "\n",
        "  print(random_num)"
      ],
      "metadata": {
        "colab": {
          "base_uri": "https://localhost:8080/"
        },
        "id": "O425Xik-da3J",
        "outputId": "ce19fa91-6d6b-4c60-ccc8-8dea14a5832d"
      },
      "execution_count": 11,
      "outputs": [
        {
          "output_type": "stream",
          "name": "stdout",
          "text": [
            "Pick a number between 1 to 10  5\n",
            "LOW!!!\n",
            "Pick a number between 1 to 10  8\n",
            "LOW!!!\n",
            "Pick a number between 1 to 10  10\n",
            "HIGH\n",
            "Pick a number between 1 to 10  9\n",
            "YOU WON!!!\n",
            "9\n"
          ]
        }
      ]
    },
    {
      "cell_type": "markdown",
      "source": [
        "Improvisation"
      ],
      "metadata": {
        "id": "zEnNNdoYNRAN"
      }
    },
    {
      "cell_type": "code",
      "source": [
        "import random\n",
        "random_num = random.randint(1,10)"
      ],
      "metadata": {
        "id": "55xNcevLNrPV"
      },
      "execution_count": 15,
      "outputs": []
    },
    {
      "cell_type": "code",
      "source": [
        "\n",
        "\n",
        "  while True:\n",
        "      guess=input(\"Pick a number between 1 to 10  \")\n",
        "      guess=int(guess)\n",
        "      if guess < random_num:\n",
        "        print(\"LOW!!!\")\n",
        "      elif guess > random_num:\n",
        "        print(\"HIGH\")\n",
        "      else:\n",
        "        print(\"YOU WON!!!\")\n",
        "        play_again=input(\"Do you want to play again: (y/n)\")\n",
        "        if play_again==\"y\":\n",
        "            random_num = random.randint(1,10)\n",
        "            guess = None\n",
        "        else:\n",
        "          print(\"Thank you for playing\")\n",
        "          break"
      ],
      "metadata": {
        "colab": {
          "base_uri": "https://localhost:8080/"
        },
        "id": "u7JLJn1uNV4I",
        "outputId": "9c88e80e-1e6d-4acc-9499-8dab74e7b3b6"
      },
      "execution_count": 16,
      "outputs": [
        {
          "output_type": "stream",
          "name": "stdout",
          "text": [
            "Pick a number between 1 to 10  5\n",
            "HIGH\n",
            "Pick a number between 1 to 10  8\n",
            "HIGH\n",
            "Pick a number between 1 to 10  9\n",
            "HIGH\n",
            "Pick a number between 1 to 10  4\n",
            "HIGH\n",
            "Pick a number between 1 to 10  2\n",
            "YOU WON!!!\n",
            "Do you want to play again: (y/n)y\n",
            "Pick a number between 1 to 10  88\n",
            "HIGH\n",
            "Pick a number between 1 to 10  9\n",
            "HIGH\n",
            "Pick a number between 1 to 10  11\n",
            "HIGH\n",
            "Pick a number between 1 to 10  10\n",
            "HIGH\n",
            "Pick a number between 1 to 10  6\n",
            "HIGH\n",
            "Pick a number between 1 to 10  5\n",
            "HIGH\n",
            "Pick a number between 1 to 10  1\n",
            "LOW!!!\n",
            "Pick a number between 1 to 10  2\n",
            "YOU WON!!!\n",
            "Do you want to play again: (y/n)n\n",
            "thank you for playing\n"
          ]
        }
      ]
    }
  ]
}